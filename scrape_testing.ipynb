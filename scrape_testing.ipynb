{
 "cells": [
  {
   "cell_type": "code",
   "execution_count": 1,
   "metadata": {},
   "outputs": [],
   "source": [
    "from splinter import Browser\n",
    "from bs4 import BeautifulSoup\n"
   ]
  },
  {
   "cell_type": "code",
   "execution_count": 70,
   "metadata": {},
   "outputs": [
    {
     "data": {
      "text/plain": [
       "{'news_title': \"Curiosity Tastes First Sample in 'Clay-Bearing Unit'\",\n",
       " 'news_p': 'This new region on Mars might reveal more about the role of water on Mount Sharp.'}"
      ]
     },
     "execution_count": 70,
     "metadata": {},
     "output_type": "execute_result"
    }
   ],
   "source": [
    "# returns title and paragraph for news \n",
    "browser = init_browser()\n",
    "news = {}\n",
    "\n",
    "url = \"https://mars.nasa.gov/news/\"\n",
    "browser.visit(url)\n",
    "\n",
    "html = browser.html\n",
    "soup = BeautifulSoup(html, \"html.parser\")\n",
    "\n",
    "news[\"news_title\"] = soup.find(\"div\", class_='content_title').get_text()\n",
    "news[\"news_p\"] = soup.find(\"div\", class_='article_teaser_body').get_text()\n",
    "news"
   ]
  },
  {
   "cell_type": "code",
   "execution_count": 71,
   "metadata": {},
   "outputs": [
    {
     "data": {
      "text/plain": [
       "{'https://www.jpl.nasa.gov/spaceimages/images/wallpaper/PIA23112-640x350.jpg'}"
      ]
     },
     "execution_count": 71,
     "metadata": {},
     "output_type": "execute_result"
    }
   ],
   "source": [
    "# returns feature img URL as dict \n",
    "browser = init_browser()\n",
    "\n",
    "url2 = \"https://www.jpl.nasa.gov/spaceimages/?search=&category=Mars\"\n",
    "browser.visit(url2)\n",
    "\n",
    "html = browser.html\n",
    "soup = BeautifulSoup(html, \"html.parser\")\n",
    "\n",
    "featured_image = soup.find_all('img')[3][\"src\"]\n",
    "featured_image_url = {\"https://www.jpl.nasa.gov\" + featured_image}\n",
    "featured_image_url"
   ]
  },
  {
   "cell_type": "code",
   "execution_count": 72,
   "metadata": {},
   "outputs": [
    {
     "data": {
      "text/plain": [
       "{'mars_weather': 'InSight sol 137 (2019-04-16) low -97.0ºC (-142.7ºF) high -15.9ºC (3.4ºF)\\nwinds from the SW at 4.3 m/s (9.7 mph) gusting to 12.4 m/s (27.7 mph)\\npressure at 7.30 hPapic.twitter.com/jhaMb7q9gy'}"
      ]
     },
     "execution_count": 72,
     "metadata": {},
     "output_type": "execute_result"
    }
   ],
   "source": [
    "# returns mars weather from twitter \n",
    "browser = init_browser()\n",
    "weather = {}\n",
    "\n",
    "url3 = \"https://twitter.com/marswxreport?lang=en\"\n",
    "browser.visit(url3)\n",
    "\n",
    "html = browser.html\n",
    "soup = BeautifulSoup(html, \"html.parser\")\n",
    "\n",
    "weather[\"mars_weather\"] = soup.find(\"p\", class_='tweet-text').get_text()\n",
    "weather"
   ]
  },
  {
   "cell_type": "code",
   "execution_count": 77,
   "metadata": {},
   "outputs": [
    {
     "data": {
      "text/plain": [
       "{'table': '\\n\\nEquatorial Diameter:6,792 km\\n\\n\\n\\nPolar Diameter:6,752 km\\n\\n\\n\\nMass:6.42 x 10^23 kg (10.7% Earth)\\n\\n\\nMoons:2 (Phobos & Deimos)\\n\\n\\nOrbit Distance:227,943,824 km (1.52 AU)\\n\\n\\nOrbit Period:687 days (1.9 years)\\n\\n\\n\\nSurface Temperature: -153 to 20 °C\\n\\n\\nFirst Record:2nd millennium BC\\n\\n\\nRecorded By:Egyptian astronomers\\n\\n'}"
      ]
     },
     "execution_count": 77,
     "metadata": {},
     "output_type": "execute_result"
    }
   ],
   "source": [
    "# returns table from space facts \n",
    "browser = init_browser()\n",
    "\n",
    "url = \"https://space-facts.com/mars/\"\n",
    "browser.visit(url)\n",
    "\n",
    "html = browser.html\n",
    "soup = BeautifulSoup(html, \"html.parser\")\n",
    "\n",
    "space_facts[\"table\"] = soup.find(\"tbody\").get_text()\n",
    "space_facts"
   ]
  },
  {
   "cell_type": "code",
   "execution_count": 52,
   "metadata": {},
   "outputs": [
    {
     "ename": "IndexError",
     "evalue": "list index out of range",
     "output_type": "error",
     "traceback": [
      "\u001b[1;31m---------------------------------------------------------------------------\u001b[0m",
      "\u001b[1;31mIndexError\u001b[0m                                Traceback (most recent call last)",
      "\u001b[1;32m<ipython-input-52-94b8165e65c6>\u001b[0m in \u001b[0;36m<module>\u001b[1;34m\u001b[0m\n\u001b[0;32m     23\u001b[0m     \u001b[0mbrowser\u001b[0m\u001b[1;33m.\u001b[0m\u001b[0mback\u001b[0m\u001b[1;33m(\u001b[0m\u001b[1;33m)\u001b[0m\u001b[1;33m\u001b[0m\u001b[1;33m\u001b[0m\u001b[0m\n\u001b[0;32m     24\u001b[0m \u001b[0mhemisphere_image_urls\u001b[0m \u001b[1;33m=\u001b[0m \u001b[0mdict\u001b[0m\u001b[1;33m(\u001b[0m\u001b[0mzip\u001b[0m\u001b[1;33m(\u001b[0m\u001b[0mhemispheres\u001b[0m\u001b[1;33m,\u001b[0m \u001b[0mimage_urls\u001b[0m\u001b[1;33m)\u001b[0m\u001b[1;33m)\u001b[0m\u001b[1;33m\u001b[0m\u001b[1;33m\u001b[0m\u001b[0m\n\u001b[1;32m---> 25\u001b[1;33m \u001b[0mh_1_title\u001b[0m \u001b[1;33m=\u001b[0m \u001b[0mlist\u001b[0m\u001b[1;33m(\u001b[0m\u001b[0mhemisphere_image_urls\u001b[0m\u001b[1;33m.\u001b[0m\u001b[0mkeys\u001b[0m\u001b[1;33m(\u001b[0m\u001b[1;33m)\u001b[0m\u001b[1;33m)\u001b[0m\u001b[1;33m[\u001b[0m\u001b[1;36m0\u001b[0m\u001b[1;33m]\u001b[0m\u001b[1;33m\u001b[0m\u001b[1;33m\u001b[0m\u001b[0m\n\u001b[0m\u001b[0;32m     26\u001b[0m \u001b[0mh_2_title\u001b[0m \u001b[1;33m=\u001b[0m \u001b[0mlist\u001b[0m\u001b[1;33m(\u001b[0m\u001b[0mhemisphere_image_urls\u001b[0m\u001b[1;33m.\u001b[0m\u001b[0mkeys\u001b[0m\u001b[1;33m(\u001b[0m\u001b[1;33m)\u001b[0m\u001b[1;33m)\u001b[0m\u001b[1;33m[\u001b[0m\u001b[1;36m1\u001b[0m\u001b[1;33m]\u001b[0m\u001b[1;33m\u001b[0m\u001b[1;33m\u001b[0m\u001b[0m\n\u001b[0;32m     27\u001b[0m \u001b[0mh_3_title\u001b[0m \u001b[1;33m=\u001b[0m \u001b[0mlist\u001b[0m\u001b[1;33m(\u001b[0m\u001b[0mhemisphere_image_urls\u001b[0m\u001b[1;33m.\u001b[0m\u001b[0mkeys\u001b[0m\u001b[1;33m(\u001b[0m\u001b[1;33m)\u001b[0m\u001b[1;33m)\u001b[0m\u001b[1;33m[\u001b[0m\u001b[1;36m2\u001b[0m\u001b[1;33m]\u001b[0m\u001b[1;33m\u001b[0m\u001b[1;33m\u001b[0m\u001b[0m\n",
      "\u001b[1;31mIndexError\u001b[0m: list index out of range"
     ]
    }
   ],
   "source": [
    "# hemispheres info\n",
    "browser = init_browser()\n",
    "\n",
    "url = \"https://astrogeology.usgs.gov/search/results?q=hemisphere+enhanced&k1=target&v1=Mars\"\n",
    "browser.visit(url)\n",
    "\n",
    "html = browser.html\n",
    "soup = BeautifulSoup(html, \"html.parser\")\n",
    "hemispheres = []\n",
    "image_urls = []\n",
    "# loop to find hemisphere names\n",
    "for hemisphere in soup.find_all('h3'):\n",
    "    hemispheres.append(hemisphere.get_text())\n",
    "# loop to find image urls \n",
    "for hemisphere in hemispheres:\n",
    "    browser.click_link_by_partial_text(hemisphere)\n",
    "    html = browser.html\n",
    "    soup = BeautifulSoup(html)\n",
    "    div = soup.find('div', class_='downloads')\n",
    "    list_ = div.find('li')\n",
    "    img_url = list_.a['href']\n",
    "    image_urls.append(img_url)\n",
    "    browser.back()\n",
    "hemisphere_image_urls = dict(zip(hemispheres, image_urls))\n",
    "h_1_title = list(hemisphere_image_urls.keys())[0]\n",
    "h_2_title = list(hemisphere_image_urls.keys())[1]\n",
    "h_3_title = list(hemisphere_image_urls.keys())[2]\n",
    "h_4_title = list(hemisphere_image_urls.keys())[3]\n",
    "h_1_img = list(hemisphere_image_urls.values())[0]\n",
    "h_1_img = list(hemisphere_image_urls.values())[1]\n",
    "h_1_img = list(hemisphere_image_urls.values())[2]\n",
    "h_1_img = list(hemisphere_image_urls.values())[3]"
   ]
  },
  {
   "cell_type": "code",
   "execution_count": 50,
   "metadata": {},
   "outputs": [
    {
     "data": {
      "text/plain": [
       "'Cerberus Hemisphere Enhanced'"
      ]
     },
     "execution_count": 50,
     "metadata": {},
     "output_type": "execute_result"
    }
   ],
   "source": [
    "hemisphere_image_urls\n",
    "h_1_title = list(hemisphere_image_urls.keys())[0]\n",
    "hemisphere_test"
   ]
  },
  {
   "cell_type": "code",
   "execution_count": 54,
   "metadata": {},
   "outputs": [],
   "source": [
    "def init_browser():\n",
    "    # @NOTE: Replace the path with your actual path to the chromedriver\n",
    "    executable_path = {\"executable_path\": \"chromedriver.exe\"}\n",
    "    return Browser(\"chrome\", **executable_path, headless=True)\n",
    "\n",
    "\n",
    "def scrape():\n",
    "    # returns title and paragraph for news \n",
    "    browser = init_browser()\n",
    "    url = \"https://mars.nasa.gov/news/\"\n",
    "    browser.visit(url)\n",
    "    html = browser.html\n",
    "    soup = BeautifulSoup(html, \"html.parser\")\n",
    "    news_title = soup.find(\"div\", class_='content_title').get_text()\n",
    "    news_body = soup.find(\"div\", class_='article_teaser_body').get_text()\n",
    "    # featured image\n",
    "    url2 = \"https://www.jpl.nasa.gov/spaceimages/?search=&category=Mars\"\n",
    "    browser.visit(url2)\n",
    "    html = browser.html\n",
    "    soup = BeautifulSoup(html, \"html.parser\")\n",
    "    featured_image = soup.find_all('img')[3][\"src\"]\n",
    "    featured_image_url = (\"https://www.jpl.nasa.gov\" + featured_image)\n",
    "    # mars weather\n",
    "    url3 = \"https://twitter.com/marswxreport?lang=en\"\n",
    "    browser.visit(url3)\n",
    "    html = browser.html\n",
    "    soup = BeautifulSoup(html, \"html.parser\")\n",
    "    weather = soup.find(\"p\", class_='tweet-text').get_text()\n",
    "    # returns table from space facts \n",
    "    url4 = \"https://space-facts.com/mars/\"\n",
    "    browser.visit(url4)\n",
    "    html = browser.html\n",
    "    soup = BeautifulSoup(html, \"html.parser\")\n",
    "    space_facts = soup.find(\"tbody\").get_text()\n",
    "    url = \"https://astrogeology.usgs.gov/search/results?q=hemisphere+enhanced&k1=target&v1=Mars\"\n",
    "    # hemisphere info \n",
    "    url5 = \"https://astrogeology.usgs.gov/search/results?q=hemisphere+enhanced&k1=target&v1=Mars\"\n",
    "    browser.visit(url5)\n",
    "    html = browser.html\n",
    "    soup = BeautifulSoup(html, \"html.parser\")\n",
    "    hemispheres = []\n",
    "    image_urls = []\n",
    "    # loop to find hemisphere names\n",
    "    for hemisphere in soup.find_all('h3'):\n",
    "        hemispheres.append(hemisphere.get_text())\n",
    "    # loop to find image urls \n",
    "    for hemisphere in hemispheres:\n",
    "        browser.click_link_by_partial_text(hemisphere)\n",
    "        html = browser.html\n",
    "        soup = BeautifulSoup(html)\n",
    "        div = soup.find('div', class_='downloads')\n",
    "        list_ = div.find('li')\n",
    "        img_url = list_.a['href']\n",
    "        image_urls.append(img_url)\n",
    "        browser.back()\n",
    "    hemisphere_image_urls = dict(zip(hemispheres, image_urls))\n",
    "    h_1_title = list(hemisphere_image_urls.keys())[0]\n",
    "    h_2_title = list(hemisphere_image_urls.keys())[1]\n",
    "    h_3_title = list(hemisphere_image_urls.keys())[2]\n",
    "    h_4_title = list(hemisphere_image_urls.keys())[3]\n",
    "    h_1_img = list(hemisphere_image_urls.values())[0]\n",
    "    h_1_img = list(hemisphere_image_urls.values())[1]\n",
    "    h_1_img = list(hemisphere_image_urls.values())[2]\n",
    "    h_1_img = list(hemisphere_image_urls.values())[3]\n",
    "    mars_data = {\"news_title\": news_title,\n",
    "             \"news_body\": news_body,\n",
    "             \"featured_image_url\": featured_image_url,\n",
    "             \"weather\": weather,\n",
    "             \"space_facts\": space_facts,\n",
    "             \"h_1_title\": h_1_title, \n",
    "             \"h_2_title\": h_2_title,\n",
    "             \"h_3_title\": h_3_title,\n",
    "             \"h_4_title\": h_4_title,\n",
    "             \"h_1_img\": h_1_img,\n",
    "             \"h_2_img\": h_2_img,\n",
    "             \"h_3_img\": h_3_img,\n",
    "             \"h_4_img\": h_4_img\n",
    "                }\n",
    "    return mars_data"
   ]
  },
  {
   "cell_type": "code",
   "execution_count": null,
   "metadata": {},
   "outputs": [],
   "source": []
  },
  {
   "cell_type": "code",
   "execution_count": 30,
   "metadata": {},
   "outputs": [
    {
     "data": {
      "text/plain": [
       "{'news_title': \"Curiosity Tastes First Sample in 'Clay-Bearing Unit'\",\n",
       " 'news_body': 'This new region on Mars might reveal more about the role of water on Mount Sharp.',\n",
       " 'featured_image_url': 'https://www.jpl.nasa.gov/spaceimages/images/wallpaper/PIA23112-640x350.jpg',\n",
       " 'weather': 'InSight sol 137 (2019-04-16) low -97.0ºC (-142.7ºF) high -15.9ºC (3.4ºF)\\nwinds from the SW at 4.3 m/s (9.7 mph) gusting to 12.4 m/s (27.7 mph)\\npressure at 7.30 hPapic.twitter.com/jhaMb7q9gy',\n",
       " 'space_facts': '\\n\\nEquatorial Diameter:6,792 km\\n\\n\\n\\nPolar Diameter:6,752 km\\n\\n\\n\\nMass:6.42 x 10^23 kg (10.7% Earth)\\n\\n\\nMoons:2 (Phobos & Deimos)\\n\\n\\nOrbit Distance:227,943,824 km (1.52 AU)\\n\\n\\nOrbit Period:687 days (1.9 years)\\n\\n\\n\\nSurface Temperature: -153 to 20 °C\\n\\n\\nFirst Record:2nd millennium BC\\n\\n\\nRecorded By:Egyptian astronomers\\n\\n',\n",
       " 'hemisphere_image_urls': (['Cerberus Hemisphere Enhanced',\n",
       "   'Schiaparelli Hemisphere Enhanced',\n",
       "   'Syrtis Major Hemisphere Enhanced',\n",
       "   'Valles Marineris Hemisphere Enhanced'],\n",
       "  ['http://astropedia.astrogeology.usgs.gov/download/Mars/Viking/cerberus_enhanced.tif/full.jpg',\n",
       "   'http://astropedia.astrogeology.usgs.gov/download/Mars/Viking/schiaparelli_enhanced.tif/full.jpg',\n",
       "   'http://astropedia.astrogeology.usgs.gov/download/Mars/Viking/syrtis_major_enhanced.tif/full.jpg',\n",
       "   'http://astropedia.astrogeology.usgs.gov/download/Mars/Viking/valles_marineris_enhanced.tif/full.jpg'])}"
      ]
     },
     "execution_count": 30,
     "metadata": {},
     "output_type": "execute_result"
    }
   ],
   "source": [
    "scrape()"
   ]
  },
  {
   "cell_type": "code",
   "execution_count": 23,
   "metadata": {},
   "outputs": [
    {
     "ename": "NameError",
     "evalue": "name 'mars_data' is not defined",
     "output_type": "error",
     "traceback": [
      "\u001b[1;31m---------------------------------------------------------------------------\u001b[0m",
      "\u001b[1;31mNameError\u001b[0m                                 Traceback (most recent call last)",
      "\u001b[1;32m<ipython-input-23-16815b067ea3>\u001b[0m in \u001b[0;36m<module>\u001b[1;34m\u001b[0m\n\u001b[1;32m----> 1\u001b[1;33m \u001b[0mmars_data\u001b[0m\u001b[1;33m\u001b[0m\u001b[1;33m\u001b[0m\u001b[0m\n\u001b[0m",
      "\u001b[1;31mNameError\u001b[0m: name 'mars_data' is not defined"
     ]
    }
   ],
   "source": []
  },
  {
   "cell_type": "code",
   "execution_count": null,
   "metadata": {},
   "outputs": [],
   "source": []
  }
 ],
 "metadata": {
  "kernelspec": {
   "display_name": "Python 3",
   "language": "python",
   "name": "python3"
  },
  "language_info": {
   "codemirror_mode": {
    "name": "ipython",
    "version": 3
   },
   "file_extension": ".py",
   "mimetype": "text/x-python",
   "name": "python",
   "nbconvert_exporter": "python",
   "pygments_lexer": "ipython3",
   "version": "3.7.1"
  }
 },
 "nbformat": 4,
 "nbformat_minor": 2
}
