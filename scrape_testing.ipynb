{
 "cells": [
  {
   "cell_type": "code",
   "execution_count": 19,
   "metadata": {},
   "outputs": [],
   "source": [
    "from splinter import Browser\n",
    "from bs4 import BeautifulSoup\n",
    "import pandas as pd"
   ]
  },
  {
   "cell_type": "code",
   "execution_count": 20,
   "metadata": {},
   "outputs": [
    {
     "data": {
      "text/plain": [
       "(\"Things Are Stacking up for NASA's Mars 2020 Spacecraft\",\n",
       " 'As the July 2020 launch date inches closer, the next spacecraft headed to the Red Planet is assembled for more testing.')"
      ]
     },
     "execution_count": 20,
     "metadata": {},
     "output_type": "execute_result"
    }
   ],
   "source": [
    "# returns title and paragraph for news \n",
    "browser = init_browser()\n",
    "url = \"https://mars.nasa.gov/news/\"\n",
    "browser.visit(url)\n",
    "html = browser.html\n",
    "soup = BeautifulSoup(html, \"html.parser\")\n",
    "news_title = soup.find(\"div\", class_='content_title').get_text()\n",
    "news_body = soup.find(\"div\", class_='article_teaser_body').get_text()\n",
    "news_title, news_body"
   ]
  },
  {
   "cell_type": "code",
   "execution_count": 21,
   "metadata": {},
   "outputs": [
    {
     "data": {
      "text/plain": [
       "'https://www.jpl.nasa.gov/spaceimages/images/mediumsize/PIA18791_ip.jpg'"
      ]
     },
     "execution_count": 21,
     "metadata": {},
     "output_type": "execute_result"
    }
   ],
   "source": [
    "# featured image\n",
    "url2 = \"https://www.jpl.nasa.gov/spaceimages/?search=&category=Mars\"\n",
    "browser.visit(url2)\n",
    "html = browser.html\n",
    "soup = BeautifulSoup(html, \"html.parser\")\n",
    "featured_image = soup.find(class_='button fancybox')['data-fancybox-href']\n",
    "featured_image_url = (\"https://www.jpl.nasa.gov\" + featured_image)\n",
    "featured_image_url"
   ]
  },
  {
   "cell_type": "code",
   "execution_count": 22,
   "metadata": {},
   "outputs": [
    {
     "data": {
      "text/plain": [
       "'InSight sol 138 (2019-04-17) low -97.7ºC (-143.9ºF) high -17.3ºC (0.9ºF)\\nwinds from the W at 4.3 m/s (9.5 mph) gusting to 12.6 m/s (28.1 mph)\\npressure at 7.30 hPapic.twitter.com/ofMyPZM2vS'"
      ]
     },
     "execution_count": 22,
     "metadata": {},
     "output_type": "execute_result"
    }
   ],
   "source": [
    "# mars weather\n",
    "url3 = \"https://twitter.com/marswxreport?lang=en\"\n",
    "browser.visit(url3)\n",
    "html = browser.html\n",
    "soup = BeautifulSoup(html, \"html.parser\")\n",
    "weather = soup.find(\"p\", class_='tweet-text').get_text()\n",
    "weather"
   ]
  },
  {
   "cell_type": "code",
   "execution_count": 23,
   "metadata": {},
   "outputs": [
    {
     "data": {
      "text/plain": [
       "'<table border=\"1\" class=\"dataframe table\">\\n  <thead>\\n    <tr style=\"text-align: right;\">\\n      <th></th>\\n      <th>0</th>\\n      <th>1</th>\\n    </tr>\\n  </thead>\\n  <tbody>\\n    <tr>\\n      <th>0</th>\\n      <td>Equatorial Diameter:</td>\\n      <td>6,792 km</td>\\n    </tr>\\n    <tr>\\n      <th>1</th>\\n      <td>Polar Diameter:</td>\\n      <td>6,752 km</td>\\n    </tr>\\n    <tr>\\n      <th>2</th>\\n      <td>Mass:</td>\\n      <td>6.42 x 10^23 kg (10.7% Earth)</td>\\n    </tr>\\n    <tr>\\n      <th>3</th>\\n      <td>Moons:</td>\\n      <td>2 (Phobos &amp; Deimos)</td>\\n    </tr>\\n    <tr>\\n      <th>4</th>\\n      <td>Orbit Distance:</td>\\n      <td>227,943,824 km (1.52 AU)</td>\\n    </tr>\\n    <tr>\\n      <th>5</th>\\n      <td>Orbit Period:</td>\\n      <td>687 days (1.9 years)</td>\\n    </tr>\\n    <tr>\\n      <th>6</th>\\n      <td>Surface Temperature:</td>\\n      <td>-153 to 20 °C</td>\\n    </tr>\\n    <tr>\\n      <th>7</th>\\n      <td>First Record:</td>\\n      <td>2nd millennium BC</td>\\n    </tr>\\n    <tr>\\n      <th>8</th>\\n      <td>Recorded By:</td>\\n      <td>Egyptian astronomers</td>\\n    </tr>\\n  </tbody>\\n</table>'"
      ]
     },
     "execution_count": 23,
     "metadata": {},
     "output_type": "execute_result"
    }
   ],
   "source": [
    "# returns table from space facts \n",
    "url4 = \"https://space-facts.com/mars/\"\n",
    "table = pd.read_html(url4)\n",
    "df1 = table[0]\n",
    "space_facts = df1.to_html(classes=\"table\")\n",
    "space_facts"
   ]
  },
  {
   "cell_type": "code",
   "execution_count": null,
   "metadata": {},
   "outputs": [],
   "source": [
    "# hemispheres info\n",
    "browser = init_browser()\n",
    "\n",
    "url = \"https://astrogeology.usgs.gov/search/results?q=hemisphere+enhanced&k1=target&v1=Mars\"\n",
    "browser.visit(url)\n",
    "\n",
    "html = browser.html\n",
    "soup = BeautifulSoup(html, \"html.parser\")\n",
    "hemispheres = []\n",
    "image_urls = []\n",
    "# loop to find hemisphere names\n",
    "for hemisphere in soup.find_all('h3'):\n",
    "    hemispheres.append(hemisphere.get_text())\n",
    "# loop to find image urls \n",
    "for hemisphere in hemispheres:\n",
    "    browser.click_link_by_partial_text(hemisphere)\n",
    "    html = browser.html\n",
    "    soup = BeautifulSoup(html)\n",
    "    div = soup.find('div', class_='downloads')\n",
    "    list_ = div.find('li')\n",
    "    img_url = list_.a['href']\n",
    "    image_urls.append(img_url)\n",
    "    browser.back()\n",
    "hemisphere_image_urls = dict(zip(hemispheres, image_urls))\n",
    "h_1_title = list(hemisphere_image_urls.keys())[0]\n",
    "h_2_title = list(hemisphere_image_urls.keys())[1]\n",
    "h_3_title = list(hemisphere_image_urls.keys())[2]\n",
    "h_4_title = list(hemisphere_image_urls.keys())[3]\n",
    "h_1_img = list(hemisphere_image_urls.values())[0]\n",
    "h_1_img = list(hemisphere_image_urls.values())[1]\n",
    "h_1_img = list(hemisphere_image_urls.values())[2]\n",
    "h_1_img = list(hemisphere_image_urls.values())[3]"
   ]
  },
  {
   "cell_type": "code",
   "execution_count": null,
   "metadata": {},
   "outputs": [],
   "source": [
    "hemisphere_image_urls\n",
    "h_1_title = list(hemisphere_image_urls.keys())[0]\n",
    "hemisphere_test"
   ]
  },
  {
   "cell_type": "code",
   "execution_count": 17,
   "metadata": {},
   "outputs": [],
   "source": [
    "def init_browser():\n",
    "    # @NOTE: Replace the path with your actual path to the chromedriver\n",
    "    executable_path = {\"executable_path\": \"chromedriver.exe\"}\n",
    "    return Browser(\"chrome\", **executable_path, headless=True)\n",
    "\n",
    "\n",
    "def scrape():\n",
    "    # returns title and paragraph for news \n",
    "    browser = init_browser()\n",
    "    url = \"https://mars.nasa.gov/news/\"\n",
    "    browser.visit(url)\n",
    "    html = browser.html\n",
    "    soup = BeautifulSoup(html, \"html.parser\")\n",
    "    news_title = soup.find(\"div\", class_='content_title').get_text()\n",
    "    news_body = soup.find(\"div\", class_='article_teaser_body').get_text()\n",
    "    # featured image\n",
    "    url2 = \"https://www.jpl.nasa.gov/spaceimages/?search=&category=Mars\"\n",
    "    browser.visit(url2)\n",
    "    html = browser.html\n",
    "    soup = BeautifulSoup(html, \"html.parser\")\n",
    "    featured_image = soup.find_all('img')[3][\"src\"]\n",
    "    featured_image_url = (\"https://www.jpl.nasa.gov\" + featured_image)\n",
    "    # mars weather\n",
    "    url3 = \"https://twitter.com/marswxreport?lang=en\"\n",
    "    browser.visit(url3)\n",
    "    html = browser.html\n",
    "    soup = BeautifulSoup(html, \"html.parser\")\n",
    "    weather = soup.find(\"p\", class_='tweet-text').get_text()\n",
    "    # returns table from space facts \n",
    "    url4 = \"https://space-facts.com/mars/\"\n",
    "    table = pd.read_html(url4)\n",
    "    df_facts = table[0]\n",
    "    space_facts = df_facts.to_html(classes=\"table\")\n",
    "    # hemisphere info \n",
    "    url5 = \"https://astrogeology.usgs.gov/search/results?q=hemisphere+enhanced&k1=target&v1=Mars\"\n",
    "    browser.visit(url5)\n",
    "    html = browser.html\n",
    "    soup = BeautifulSoup(html, \"html.parser\")\n",
    "    hemispheres = []\n",
    "    image_urls = []\n",
    "    # loop to find hemisphere names\n",
    "    for hemisphere in soup.find_all('h3'):\n",
    "        hemispheres.append(hemisphere.get_text())\n",
    "    # loop to find image urls \n",
    "    for hemisphere in hemispheres:\n",
    "        browser.click_link_by_partial_text(hemisphere)\n",
    "        html = browser.html\n",
    "        soup = BeautifulSoup(html)\n",
    "        div = soup.find('div', class_='downloads')\n",
    "        list_ = div.find('li')\n",
    "        img_url = list_.a['href']\n",
    "        image_urls.append(img_url)\n",
    "        browser.back()\n",
    "    hemisphere_image_urls = dict(zip(hemispheres, image_urls))\n",
    "    h_1_title = list(hemisphere_image_urls.keys())[0]\n",
    "    h_2_title = list(hemisphere_image_urls.keys())[1]\n",
    "    h_3_title = list(hemisphere_image_urls.keys())[2]\n",
    "    h_4_title = list(hemisphere_image_urls.keys())[3]\n",
    "    h_1_img = list(hemisphere_image_urls.values())[0]\n",
    "    h_2_img = list(hemisphere_image_urls.values())[1]\n",
    "    h_3_img = list(hemisphere_image_urls.values())[2]\n",
    "    h_4_img = list(hemisphere_image_urls.values())[3]\n",
    "    mars_data = {\"news_title\": news_title,\n",
    "             \"news_body\": news_body,\n",
    "             \"featured_image_url\": featured_image_url,\n",
    "             \"weather\": weather,\n",
    "             \"space_facts\": space_facts,\n",
    "             \"h_1_title\": h_1_title, \n",
    "             \"h_2_title\": h_2_title,\n",
    "             \"h_3_title\": h_3_title,\n",
    "             \"h_4_title\": h_4_title,\n",
    "             \"h_1_img\": h_1_img,\n",
    "             \"h_2_img\": h_2_img,\n",
    "             \"h_3_img\": h_3_img,\n",
    "             \"h_4_img\": h_4_img\n",
    "                }\n",
    "    return mars_data"
   ]
  },
  {
   "cell_type": "code",
   "execution_count": 18,
   "metadata": {},
   "outputs": [
    {
     "data": {
      "text/plain": [
       "{'news_title': \"Things Are Stacking up for NASA's Mars 2020 Spacecraft\",\n",
       " 'news_body': 'As the July 2020 launch date inches closer, the next spacecraft headed to the Red Planet is assembled for more testing.',\n",
       " 'featured_image_url': 'https://www.jpl.nasa.gov/spaceimages/images/wallpaper/PIA23112-640x350.jpg',\n",
       " 'weather': 'InSight sol 138 (2019-04-17) low -97.7ºC (-143.9ºF) high -17.3ºC (0.9ºF)\\nwinds from the W at 4.3 m/s (9.5 mph) gusting to 12.6 m/s (28.1 mph)\\npressure at 7.30 hPapic.twitter.com/ofMyPZM2vS',\n",
       " 'space_facts': '<table border=\"1\" class=\"dataframe table\">\\n  <thead>\\n    <tr style=\"text-align: right;\">\\n      <th></th>\\n      <th>0</th>\\n      <th>1</th>\\n    </tr>\\n  </thead>\\n  <tbody>\\n    <tr>\\n      <th>0</th>\\n      <td>Equatorial Diameter:</td>\\n      <td>6,792 km</td>\\n    </tr>\\n    <tr>\\n      <th>1</th>\\n      <td>Polar Diameter:</td>\\n      <td>6,752 km</td>\\n    </tr>\\n    <tr>\\n      <th>2</th>\\n      <td>Mass:</td>\\n      <td>6.42 x 10^23 kg (10.7% Earth)</td>\\n    </tr>\\n    <tr>\\n      <th>3</th>\\n      <td>Moons:</td>\\n      <td>2 (Phobos &amp; Deimos)</td>\\n    </tr>\\n    <tr>\\n      <th>4</th>\\n      <td>Orbit Distance:</td>\\n      <td>227,943,824 km (1.52 AU)</td>\\n    </tr>\\n    <tr>\\n      <th>5</th>\\n      <td>Orbit Period:</td>\\n      <td>687 days (1.9 years)</td>\\n    </tr>\\n    <tr>\\n      <th>6</th>\\n      <td>Surface Temperature:</td>\\n      <td>-153 to 20 °C</td>\\n    </tr>\\n    <tr>\\n      <th>7</th>\\n      <td>First Record:</td>\\n      <td>2nd millennium BC</td>\\n    </tr>\\n    <tr>\\n      <th>8</th>\\n      <td>Recorded By:</td>\\n      <td>Egyptian astronomers</td>\\n    </tr>\\n  </tbody>\\n</table>',\n",
       " 'h_1_title': 'Cerberus Hemisphere Enhanced',\n",
       " 'h_2_title': 'Schiaparelli Hemisphere Enhanced',\n",
       " 'h_3_title': 'Syrtis Major Hemisphere Enhanced',\n",
       " 'h_4_title': 'Valles Marineris Hemisphere Enhanced',\n",
       " 'h_1_img': 'http://astropedia.astrogeology.usgs.gov/download/Mars/Viking/cerberus_enhanced.tif/full.jpg',\n",
       " 'h_2_img': 'http://astropedia.astrogeology.usgs.gov/download/Mars/Viking/schiaparelli_enhanced.tif/full.jpg',\n",
       " 'h_3_img': 'http://astropedia.astrogeology.usgs.gov/download/Mars/Viking/syrtis_major_enhanced.tif/full.jpg',\n",
       " 'h_4_img': 'http://astropedia.astrogeology.usgs.gov/download/Mars/Viking/valles_marineris_enhanced.tif/full.jpg'}"
      ]
     },
     "execution_count": 18,
     "metadata": {},
     "output_type": "execute_result"
    }
   ],
   "source": [
    "scrape()"
   ]
  },
  {
   "cell_type": "code",
   "execution_count": null,
   "metadata": {},
   "outputs": [],
   "source": []
  },
  {
   "cell_type": "code",
   "execution_count": null,
   "metadata": {},
   "outputs": [],
   "source": []
  },
  {
   "cell_type": "code",
   "execution_count": null,
   "metadata": {},
   "outputs": [],
   "source": []
  }
 ],
 "metadata": {
  "kernelspec": {
   "display_name": "Python 3",
   "language": "python",
   "name": "python3"
  },
  "language_info": {
   "codemirror_mode": {
    "name": "ipython",
    "version": 3
   },
   "file_extension": ".py",
   "mimetype": "text/x-python",
   "name": "python",
   "nbconvert_exporter": "python",
   "pygments_lexer": "ipython3",
   "version": "3.7.1"
  }
 },
 "nbformat": 4,
 "nbformat_minor": 2
}
